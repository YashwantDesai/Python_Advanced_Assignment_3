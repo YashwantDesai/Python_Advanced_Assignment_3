{
 "cells": [
  {
   "cell_type": "markdown",
   "id": "0c27a818",
   "metadata": {},
   "source": [
    "# Yashwant Desai –  Python_Advanced_Assignment_3"
   ]
  },
  {
   "cell_type": "markdown",
   "id": "3cd15fd5",
   "metadata": {},
   "source": [
    "# 1. What is the concept of an abstract superclass?"
   ]
  },
  {
   "cell_type": "markdown",
   "id": "d723c5eb",
   "metadata": {},
   "source": [
    "An abstract superclass in Python is a class that cannot be directly instantiated. It serves as a blueprint for other classes, requiring them to implement certain methods or properties. This ensures a common interface and behavior for classes that inherit from it. Python's abc module is used to define and enforce abstract superclasses. Subclasses must provide concrete implementations for the abstract methods and properties defined in the abstract superclass."
   ]
  },
  {
   "cell_type": "code",
   "execution_count": 3,
   "id": "0986d122",
   "metadata": {},
   "outputs": [],
   "source": [
    "import abc\n",
    "class MyAbstractClass(abc.ABC):\n",
    "    @abc.abstractmethod\n",
    "    def abstract_method(self):\n",
    "        pass\n",
    "    @property\n",
    "    @abc.abstractmethod\n",
    "    def abstract_property(self):\n",
    "        pass"
   ]
  },
  {
   "cell_type": "code",
   "execution_count": 4,
   "id": "ed596493",
   "metadata": {},
   "outputs": [],
   "source": [
    "class MyConcreteClass(MyAbstractClass):\n",
    "    def abstract_method(self):\n",
    "        return \"Concrete method implementation\"\n",
    "    @property\n",
    "    def abstract_property(self):\n",
    "        return \"Concrete property implementation\""
   ]
  },
  {
   "cell_type": "markdown",
   "id": "0d71ec61",
   "metadata": {},
   "source": [
    "# 2. What happens when a class statement's top level contains a basic assignment statement?"
   ]
  },
  {
   "cell_type": "markdown",
   "id": "6e23eb79",
   "metadata": {},
   "source": [
    "When you place a basic assignment statement at the top level of a class definition outside of any method or special class block, it becomes a class attribute. This class attribute is shared among all instances of the class and is associated with the class itself rather than with individual instances. This means that all instances of the class will have access to the same value for that attribute, and changes to the attribute will affect all instances."
   ]
  },
  {
   "cell_type": "code",
   "execution_count": 6,
   "id": "1194d9cf",
   "metadata": {},
   "outputs": [
    {
     "name": "stdout",
     "output_type": "stream",
     "text": [
      "88\n",
      "88\n",
      "500\n",
      "500\n"
     ]
    }
   ],
   "source": [
    "class MyClass:\n",
    "    class_attribute = 88\n",
    "    def __init__(self, instance_variable):\n",
    "        self.instance_variable = instance_variable\n",
    "obj1 = MyClass(80)\n",
    "obj2 = MyClass(90)\n",
    "print(obj1.class_attribute) \n",
    "print(obj2.class_attribute) \n",
    "MyClass.class_attribute = 500\n",
    "print(obj1.class_attribute)\n",
    "print(obj2.class_attribute)"
   ]
  },
  {
   "cell_type": "markdown",
   "id": "5936f83c",
   "metadata": {},
   "source": [
    "# 3. Why does a class need to manually call a superclass's __init__ method?"
   ]
  },
  {
   "cell_type": "raw",
   "id": "c03e53da",
   "metadata": {},
   "source": [
    "A class needs to manually call a superclass's __init__ method because it allows the subclass to initialize the attributes and behavior inherited from the superclass while also adding its own custom attributes and behavior. By calling the superclass's __init__ method explicitly, you ensure that the superclass's initialization logic is executed before the subclass's, preserving the expected behavior of the superclass and avoiding potential issues."
   ]
  },
  {
   "cell_type": "markdown",
   "id": "d0f40594",
   "metadata": {},
   "source": [
    "# 4. How can you augment, instead of completely replacing, an inherited method?"
   ]
  },
  {
   "cell_type": "raw",
   "id": "d3cbd99d",
   "metadata": {},
   "source": [
    "To augment an inherited method in Python without completely replacing it, we can follow these steps:\n",
    "\n",
    "In the subclass, define a method with the same name as the one you want to augment. This new method will override the inherited method.\n",
    "\n",
    "Inside the subclass method, call the superclass's method using super() to access the superclass's implementation.\n",
    "\n",
    "Add your custom logic before or after the super() call to extend or modify the behavior of the inherited method."
   ]
  },
  {
   "cell_type": "code",
   "execution_count": 7,
   "id": "b5baa4e3",
   "metadata": {},
   "outputs": [
    {
     "name": "stdout",
     "output_type": "stream",
     "text": [
      "This is the ChildClass method\n",
      "This is the ParentClass method\n",
      "Custom logic added in ChildClass\n"
     ]
    }
   ],
   "source": [
    "class ParentClass:\n",
    "    def some_method(self):\n",
    "        print(\"This is the ParentClass method\")\n",
    "class ChildClass(ParentClass):\n",
    "    def some_method(self):\n",
    "        print(\"This is the ChildClass method\")\n",
    "        super().some_method()\n",
    "        print(\"Custom logic added in ChildClass\")\n",
    "child = ChildClass()\n",
    "child.some_method()"
   ]
  },
  {
   "cell_type": "markdown",
   "id": "a48cc678",
   "metadata": {},
   "source": [
    "# 5. How is the local scope of a class different from that of a function?"
   ]
  },
  {
   "cell_type": "raw",
   "id": "35adbea0",
   "metadata": {},
   "source": [
    "The local scope of a class and the local scope of a function in Python differ in their purposes, access to data, lifetime, and usage:\n",
    "\n",
    "Class Scope:\n",
    "\n",
    "Defines attributes and methods for a class.\n",
    "Attributes are shared among instances (class attributes).\n",
    "Attributes persist as long as the class definition exists.\n",
    "Used for maintaining the state and behavior of a class.\n",
    "\n",
    "Function Scope:\n",
    "\n",
    "Defines variables for a specific function.\n",
    "Variables are local to the function and not shared between functions.\n",
    "Variables have a shorter lifetime, existing only during function execution.\n",
    "Used for temporary data storage and local computations within functions."
   ]
  },
  {
   "cell_type": "code",
   "execution_count": 8,
   "id": "85e52402",
   "metadata": {},
   "outputs": [
    {
     "name": "stdout",
     "output_type": "stream",
     "text": [
      "Accessing class attribute in class method: This is a class attribute\n",
      "Accessing function variable in function: This is a function variable\n"
     ]
    }
   ],
   "source": [
    "class MyClass:\n",
    "    class_attribute = \"This is a class attribute\"\n",
    "    def __init__(self):\n",
    "        self.instance_variable = \"This is an instance variable\"\n",
    "    def class_method(self):\n",
    "        print(\"Accessing class attribute in class method:\", MyClass.class_attribute)\n",
    "def my_function():\n",
    "    function_variable = \"This is a function variable\"\n",
    "    print(\"Accessing function variable in function:\", function_variable)\n",
    "obj = MyClass()\n",
    "obj.class_method()\n",
    "my_function()"
   ]
  },
  {
   "cell_type": "markdown",
   "id": "a79c0885",
   "metadata": {},
   "source": [
    "# Done Regards,Yashwant"
   ]
  }
 ],
 "metadata": {
  "kernelspec": {
   "display_name": "Python 3 (ipykernel)",
   "language": "python",
   "name": "python3"
  },
  "language_info": {
   "codemirror_mode": {
    "name": "ipython",
    "version": 3
   },
   "file_extension": ".py",
   "mimetype": "text/x-python",
   "name": "python",
   "nbconvert_exporter": "python",
   "pygments_lexer": "ipython3",
   "version": "3.9.13"
  }
 },
 "nbformat": 4,
 "nbformat_minor": 5
}
